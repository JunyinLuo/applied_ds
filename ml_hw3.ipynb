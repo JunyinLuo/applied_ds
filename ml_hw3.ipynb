{
 "cells": [
  {
   "cell_type": "markdown",
   "metadata": {
    "application/vnd.databricks.v1+cell": {
     "cellMetadata": {},
     "inputWidgets": {},
     "nuid": "0b389d61-19f2-413c-818c-5301ce2550c4",
     "showTitle": false,
     "title": ""
    }
   },
   "source": [
    "## Unsupervised learning for red wine characteristics"
   ]
  },
  {
   "cell_type": "code",
   "execution_count": 0,
   "metadata": {
    "application/vnd.databricks.v1+cell": {
     "cellMetadata": {},
     "inputWidgets": {},
     "nuid": "0ef66a46-3d44-4749-aca9-9f1aa4f9546d",
     "showTitle": false,
     "title": ""
    },
    "tags": []
   },
   "outputs": [],
   "source": [
    "import pandas as pd\n",
    "\n",
    "wine = pd.read_csv(\"winequality-red.csv\", sep = ';') \n",
    "wine.head()"
   ]
  },
  {
   "cell_type": "markdown",
   "metadata": {
    "application/vnd.databricks.v1+cell": {
     "cellMetadata": {},
     "inputWidgets": {},
     "nuid": "d31bb67e-05b2-4227-b659-84b57bab3341",
     "showTitle": false,
     "title": ""
    }
   },
   "source": [
    "### 1. \n",
    "Use K Means Cluster Analysis to identify cluster(s) of observations that have high and low values of the wine quality. (Assume all variables are continuous.)\n",
    "\n",
    "Describe variables that cluster with higher values of wine quality. Describe variables that cluster with lower values of wine quality.\n",
    "\n",
    "If you want to make a good bottle of wine, then what characteristics are most important according to this analysis?"
   ]
  },
  {
   "cell_type": "code",
   "execution_count": 0,
   "metadata": {
    "application/vnd.databricks.v1+cell": {
     "cellMetadata": {},
     "inputWidgets": {},
     "nuid": "9c83516b-8d4d-45c9-a86a-49399cd62045",
     "showTitle": false,
     "title": ""
    },
    "tags": []
   },
   "outputs": [],
   "source": [
    "from sklearn.cluster import KMeans\n",
    "from sklearn.preprocessing import StandardScaler\n",
    "import matplotlib.pyplot as plt\n",
    "\n",
    "X = wine.drop('quality', axis=1)\n",
    "scaler = StandardScaler()\n",
    "X_scaled = scaler.fit_transform(X)\n",
    "num_clusters = 2\n",
    "\n",
    "kmeans = KMeans(n_clusters=num_clusters, random_state=42)\n",
    "wine['cluster'] = kmeans.fit_predict(X_scaled)\n",
    "\n",
    "cluster_summary = wine.groupby('cluster').mean()\n",
    "\n",
    "# Print summary statistics for each cluster\n",
    "print(cluster_summary)\n",
    "\n",
    "# Visualize the clusters\n",
    "plt.scatter(X_scaled[:, 0], X_scaled[:, 1], c=wine['cluster'], cmap='viridis')\n",
    "plt.scatter(kmeans.cluster_centers_[:, 0], kmeans.cluster_centers_[:, 1], marker='x', s=300, c='red')\n",
    "plt.title('Kmeans Clustering Result')\n",
    "plt.xlabel('Feature 1')\n",
    "plt.ylabel('Feature 2')\n",
    "plt.show()"
   ]
  },
  {
   "cell_type": "markdown",
   "metadata": {
    "application/vnd.databricks.v1+cell": {
     "cellMetadata": {},
     "inputWidgets": {},
     "nuid": "3f8ca94a-92d3-4447-91e2-fe384c0a7fe7",
     "showTitle": false,
     "title": ""
    }
   },
   "source": [
    "The cluster with higher values of wine quality has higher mean values of fixed acidity, citric acid, residual sugar, sulphates, while that with lower values of wine quality has higher mean values of volatile acidity, free sulfur dioxide, total sulfur dioxide, pH."
   ]
  },
  {
   "cell_type": "markdown",
   "metadata": {
    "application/vnd.databricks.v1+cell": {
     "cellMetadata": {},
     "inputWidgets": {},
     "nuid": "7d8e1907-293e-4ffd-ab93-dee87bb0d2f8",
     "showTitle": false,
     "title": ""
    }
   },
   "source": [
    "The most important characteristics that impact the quality of a bottle of wine are the features with most significant difference between the two clusters, that is, fixed acidity, citric acid, free sulfur dioxide and total sulfur dioxide."
   ]
  }
 ],
 "metadata": {
  "application/vnd.databricks.v1+notebook": {
   "dashboards": [],
   "language": "python",
   "notebookMetadata": {
    "pythonIndentUnit": 4
   },
   "notebookName": "ml_hw3",
   "widgets": {}
  },
  "kernelspec": {
   "display_name": "Python 3 (ipykernel)",
   "language": "python",
   "name": "python3"
  },
  "language_info": {
   "codemirror_mode": {
    "name": "ipython",
    "version": 3
   },
   "file_extension": ".py",
   "mimetype": "text/x-python",
   "name": "python",
   "nbconvert_exporter": "python",
   "pygments_lexer": "ipython3",
   "version": "3.11.5"
  }
 },
 "nbformat": 4,
 "nbformat_minor": 0
}
