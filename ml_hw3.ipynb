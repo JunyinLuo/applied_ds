{
 "cells": [
  {
   "cell_type": "markdown",
   "metadata": {
    "application/vnd.databricks.v1+cell": {
     "cellMetadata": {},
     "inputWidgets": {},
     "nuid": "0b389d61-19f2-413c-818c-5301ce2550c4",
     "showTitle": false,
     "title": ""
    }
   },
   "source": [
    "## Unsupervised learning for red wine characteristics"
   ]
  },
  {
   "cell_type": "code",
   "execution_count": 0,
   "metadata": {
    "application/vnd.databricks.v1+cell": {
     "cellMetadata": {},
     "inputWidgets": {},
     "nuid": "0ef66a46-3d44-4749-aca9-9f1aa4f9546d",
     "showTitle": false,
     "title": ""
    },
    "tags": []
   },
   "outputs": [],
   "source": [
    "import pandas as pd\n",
    "\n",
    "wine = pd.read_csv(\"winequality-red.csv\", sep = ';') \n",
    "wine.head()"
   ]
  },
  {
   "cell_type": "markdown",
   "metadata": {
    "application/vnd.databricks.v1+cell": {
     "cellMetadata": {},
     "inputWidgets": {},
     "nuid": "d31bb67e-05b2-4227-b659-84b57bab3341",
     "showTitle": false,
     "title": ""
    }
   },
   "source": [
    "### 1. \n",
    "Use K Means Cluster Analysis to identify cluster(s) of observations that have high and low values of the wine quality. (Assume all variables are continuous.)\n",
    "\n",
    "Describe variables that cluster with higher values of wine quality. Describe variables that cluster with lower values of wine quality.\n",
    "\n",
    "If you want to make a good bottle of wine, then what characteristics are most important according to this analysis?"
   ]
  },
  {
   "cell_type": "code",
   "execution_count": 0,
   "metadata": {
    "application/vnd.databricks.v1+cell": {
     "cellMetadata": {},
     "inputWidgets": {},
     "nuid": "9c83516b-8d4d-45c9-a86a-49399cd62045",
     "showTitle": false,
     "title": ""
    },
    "tags": []
   },
   "outputs": [],
   "source": [
    "from sklearn.cluster import KMeans\n",
    "from sklearn.preprocessing import StandardScaler\n",
    "import matplotlib.pyplot as plt\n",
    "\n",
    "X = wine.drop('quality', axis=1)\n",
    "scaler = StandardScaler()\n",
    "X_scaled = scaler.fit_transform(X)\n",
    "num_clusters = 2\n",
    "\n",
    "kmeans = KMeans(n_clusters=num_clusters, random_state=42)\n",
    "wine['cluster'] = kmeans.fit_predict(X_scaled)\n",
    "\n",
    "cluster_summary = wine.groupby('cluster').mean()\n",
    "\n",
    "# Print summary statistics for each cluster\n",
    "print(cluster_summary)\n",
    "\n",
    "# Visualize the clusters\n",
    "plt.scatter(X_scaled[:, 0], X_scaled[:, 1], c=wine['cluster'], cmap='viridis')\n",
    "plt.scatter(kmeans.cluster_centers_[:, 0], kmeans.cluster_centers_[:, 1], marker='x', s=300, c='red')\n",
    "plt.title('Kmeans Clustering Result')\n",
    "plt.xlabel('Feature 1')\n",
    "plt.ylabel('Feature 2')\n",
    "plt.show()"
   ]
  },
  {
   "cell_type": "markdown",
   "metadata": {
    "application/vnd.databricks.v1+cell": {
     "cellMetadata": {},
     "inputWidgets": {},
     "nuid": "3f8ca94a-92d3-4447-91e2-fe384c0a7fe7",
     "showTitle": false,
     "title": ""
    }
   },
   "source": [
    "The cluster with higher values of wine quality has higher mean values of fixed acidity, citric acid, residual sugar, sulphates, while that with lower values of wine quality has higher mean values of volatile acidity, free sulfur dioxide, total sulfur dioxide, pH."
   ]
  },
  {
   "cell_type": "markdown",
   "metadata": {
    "application/vnd.databricks.v1+cell": {
     "cellMetadata": {},
     "inputWidgets": {},
     "nuid": "7d8e1907-293e-4ffd-ab93-dee87bb0d2f8",
     "showTitle": false,
     "title": ""
    }
   },
   "source": [
    "The most important characteristics that impact the quality of a bottle of wine are the features with most significant difference between the two clusters, that is, fixed acidity, citric acid, free sulfur dioxide and total sulfur dioxide."
   ]
  },
  {
   "cell_type": "markdown",
   "metadata": {
    "application/vnd.databricks.v1+cell": {
     "cellMetadata": {},
     "inputWidgets": {},
     "nuid": "ceab049f-1804-46fc-8df6-7a18c1d0141d",
     "showTitle": false,
     "title": ""
    }
   },
   "source": [
    "### 2. \n",
    "Use Hierarchical Cluster Analysis to identify cluster(s) of observations that have high and low values of the wine quality. (Assume all variables are continuous.) Use complete linkage and the same number of groups that you found to be the most meaningful in question 1.\n",
    "\n",
    "Describe variables that cluster with higher values of wine quality. Describe variables that cluster with lower values of wine quality.\n",
    "\n",
    "If you want to make a good bottle of wine, then what characteristics are most important according to this analysis? Have your conclusions changed using Hierarchical clustering rather than k means clustering? Present any figures that assist you in your analysis.\n"
   ]
  },
  {
   "cell_type": "code",
   "execution_count": 0,
   "metadata": {
    "application/vnd.databricks.v1+cell": {
     "cellMetadata": {},
     "inputWidgets": {},
     "nuid": "52979c7b-facd-40c8-8bdd-af72ef094c4d",
     "showTitle": false,
     "title": ""
    },
    "tags": []
   },
   "outputs": [],
   "source": [
    "from scipy.cluster.hierarchy import linkage, dendrogram, fcluster\n",
    "\n",
    "linkage_matrix = linkage(X_scaled, method='complete', metric='euclidean')\n",
    "\n",
    "dendrogram(linkage_matrix, labels=wine.index, leaf_rotation=90, leaf_font_size=8)\n",
    "plt.title('Hierarchical Clustering Dendrogram')\n",
    "plt.show()\n",
    "\n",
    "num_clusters = 2 \n",
    "wine['cluster'] = fcluster(linkage_matrix, num_clusters, criterion='maxclust')\n",
    "\n",
    "cluster_summary = wine.groupby('cluster').mean()\n",
    "\n",
    "print(cluster_summary)\n",
    "\n",
    "plt.scatter(X.iloc[:, 0], X.iloc[:, 1], c=wine['cluster'], cmap='viridis')\n",
    "plt.title('Hierarchical Clustering Result')\n",
    "plt.xlabel('Feature 1')\n",
    "plt.ylabel('Feature 2')\n",
    "plt.show()"
   ]
  },
  {
   "cell_type": "markdown",
   "metadata": {
    "application/vnd.databricks.v1+cell": {
     "cellMetadata": {},
     "inputWidgets": {},
     "nuid": "75ee8b48-456e-46be-9866-97c7f88626a7",
     "showTitle": false,
     "title": ""
    }
   },
   "source": [
    "The cluster with higher values of wine quality has higher mean values of volatile acidity, pH and alcohol, while that with lower values of wine quality has higher mean values of citric acid, chlorides, free sulfur dioxide, sulphates."
   ]
  },
  {
   "cell_type": "markdown",
   "metadata": {
    "application/vnd.databricks.v1+cell": {
     "cellMetadata": {},
     "inputWidgets": {},
     "nuid": "34a4065a-2e89-4ef0-9946-82deb5f3fa4c",
     "showTitle": false,
     "title": ""
    }
   },
   "source": [
    "The most important characteristics that impact the quality of a bottle of wine are the features with significant difference between the two clusters, that is, citric acid, chlorides, free sulfur dioxide, total sulfur dioxide and sulphates."
   ]
  },
  {
   "cell_type": "markdown",
   "metadata": {
    "application/vnd.databricks.v1+cell": {
     "cellMetadata": {},
     "inputWidgets": {},
     "nuid": "2aedf88d-6f6b-4d66-92a6-bda0628034bf",
     "showTitle": false,
     "title": ""
    }
   },
   "source": [
    "According to the above discussion, the conclusions obtained by Hierarchical clustering change a lot."
   ]
  },
  {
   "cell_type": "markdown",
   "metadata": {
    "application/vnd.databricks.v1+cell": {
     "cellMetadata": {},
     "inputWidgets": {},
     "nuid": "80436f50-f1c7-47c3-8234-c7988209c372",
     "showTitle": false,
     "title": ""
    }
   },
   "source": [
    "### 3.\n",
    "Use Principal Components Analysis to reduce the dimensions of your data. How much of the variation in your data is explained by the first two principal components. How might you use the first two components to do supervised learning on some other variable tied to wine (e.g. - wine price)?"
   ]
  },
  {
   "cell_type": "code",
   "execution_count": 0,
   "metadata": {
    "application/vnd.databricks.v1+cell": {
     "cellMetadata": {},
     "inputWidgets": {},
     "nuid": "56bb51f6-e660-4952-a492-1b060b8102c9",
     "showTitle": false,
     "title": ""
    },
    "tags": []
   },
   "outputs": [],
   "source": [
    "from sklearn.decomposition import PCA\n",
    "import numpy as np\n",
    "\n",
    "pca = PCA()\n",
    "X_pca = pca.fit_transform(X_scaled)\n",
    "\n",
    "explained_variance_ratio = pca.explained_variance_ratio_\n",
    "\n",
    "print(f\"Explained Variance Ratio for PC1: {explained_variance_ratio[0]:.2f}\")\n",
    "print(f\"Explained Variance Ratio for PC2: {explained_variance_ratio[1]:.2f}\")\n",
    "\n",
    "cumulative_explained_variance = np.cumsum(explained_variance_ratio)\n",
    "plt.plot(range(1, len(cumulative_explained_variance) + 1), cumulative_explained_variance, marker='o')\n",
    "plt.xlabel('Number of Principal Components')\n",
    "plt.ylabel('Cumulative Explained Variance')\n",
    "plt.title('Cumulative Explained Variance vs. Number of Principal Components')\n",
    "plt.show()"
   ]
  }
 ],
 "metadata": {
  "application/vnd.databricks.v1+notebook": {
   "dashboards": [],
   "language": "python",
   "notebookMetadata": {
    "pythonIndentUnit": 4
   },
   "notebookName": "ml_hw3",
   "widgets": {}
  },
  "kernelspec": {
   "display_name": "Python 3 (ipykernel)",
   "language": "python",
   "name": "python3"
  },
  "language_info": {
   "codemirror_mode": {
    "name": "ipython",
    "version": 3
   },
   "file_extension": ".py",
   "mimetype": "text/x-python",
   "name": "python",
   "nbconvert_exporter": "python",
   "pygments_lexer": "ipython3",
   "version": "3.11.5"
  }
 },
 "nbformat": 4,
 "nbformat_minor": 0
}
